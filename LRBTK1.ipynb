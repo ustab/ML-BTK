{
  "nbformat": 4,
  "nbformat_minor": 0,
  "metadata": {
    "colab": {
      "name": "LRBTK1.ipynb",
      "private_outputs": true,
      "provenance": [],
      "authorship_tag": "ABX9TyOLBRgsYeg6VT8BnGGhRWuK",
      "include_colab_link": true
    },
    "kernelspec": {
      "name": "python3",
      "display_name": "Python 3"
    },
    "language_info": {
      "name": "python"
    }
  },
  "cells": [
    {
      "cell_type": "markdown",
      "metadata": {
        "id": "view-in-github",
        "colab_type": "text"
      },
      "source": [
        "<a href=\"https://colab.research.google.com/github/ustab/ML-BTK/blob/main/LRBTK1.ipynb\" target=\"_parent\"><img src=\"https://colab.research.google.com/assets/colab-badge.svg\" alt=\"Open In Colab\"/></a>"
      ]
    },
    {
      "cell_type": "markdown",
      "source": [
        "import pandas as pd\n",
        "import csv\n",
        "import numpy as n  \n",
        "# Importing the dataset\n",
        "dataset = pd.read_csv(\"histBrightness.csv\", header=None)\n",
        "X = dataset.iloc[:, 1:].values\n",
        "y = dataset.iloc[:, 0].values\n",
        "\n",
        "labelDict = createDict('inputBrightness.csv')\n",
        "y = np.vectorize(labelDict.get)(y)\n",
        "y = np.ndarray.tolist(y)\n",
        "\n",
        "y = list(map(float, y))\n",
        "y = np.asarray(y)\n",
        "# Encoding the y\n",
        "#from sklearn.preprocessing import LabelEncoder\n",
        "#from keras.utils import np_utils\n",
        "#encoder = LabelEncoder()\n",
        "#encoded_Y = encoder.fit_transform(y)\n",
        "#dummy_y = np_utils.to_categorical(encoded_Y)\n",
        "\n",
        "\n",
        "from sklearn.model_selection import train_test_split\n",
        "from sklearn.preprocessing import StandardScaler\n",
        "from sklearn.metrics import confusion_matrix,mean_absolute_error\n",
        "from sklearn.ensemble import RandomForestRegressor\n",
        "from sklearn.model_selection import cross_val_score\n",
        "\n",
        "scores = []\n",
        "cms = []\n",
        "for i in range(0,1):\n",
        "    print(i)\n",
        "\n",
        "#     Splitting the dataset into the Training set and Test set\n",
        "    X_train, X_test, y_train, y_test = train_test_split(X, y, test_size = 0.25, \n",
        "                                                    stratify = y)\n",
        "\n",
        "\n",
        "    # Feature Scaling\n",
        "    sc = StandardScaler()\n",
        "    X_train = sc.fit_transform(X_train)\n",
        "    X_test = sc.transform(X_test)\n",
        "    \n",
        "    # Feature Scaling\n",
        "    scy = StandardScaler()\n",
        "    y_train = scy.fit_transform(y_train)\n",
        "    y_test = scy.fit_transform(y_test)\n",
        "   \n",
        "    # Fitting Random Forest Regression to the dataset\n",
        "    regressor = RandomForestRegressor(n_estimators = 100, random_state = 0)\n",
        "    regressor.fit(X_train, y_train)\n",
        "    \n",
        "    # Predicting the Test set results\n",
        "    y_pred = regressor.predict(X_test)\n",
        "#    y_pred = scy.inverse_transform(y_pred)\n",
        "    \n",
        "\n",
        "\n",
        "    # Check the score\n",
        "    scores.append(mean_absolute_error(y_test, y_pred))\n",
        "\n",
        "scores = np.asarray(scores)\n",
        "scores.mean()\n",
        "scores.std()"
      ],
      "metadata": {
        "id": "WMNZAPCoRo8k"
      }
    },
    {
      "cell_type": "code",
      "source": [
        "import numpy as np\n",
        "import pandas as pd\n",
        "import matplotlib.pyplot as plt\n",
        "from sklearn.model_selection import train_test_split\n",
        "from sklearn.preprocessing import StandardScaler\n",
        "from sklearn.metrics import confusion_matrix,mean_absolute_error\n",
        "from sklearn.ensemble import RandomForestRegressor\n",
        "from sklearn.model_selection import cross_val_score"
      ],
      "metadata": {
        "id": "GYmwpm4_x1hn"
      },
      "execution_count": null,
      "outputs": []
    },
    {
      "cell_type": "code",
      "source": [
        "df=pd.read_csv('/content/satislar.txt.crdownload')\n",
        "df.head()"
      ],
      "metadata": {
        "id": "3fjDfmJ38NVA"
      },
      "execution_count": null,
      "outputs": []
    },
    {
      "cell_type": "code",
      "source": [
        "aylar=df[['Aylar']]\n",
        "aylar"
      ],
      "metadata": {
        "id": "36xxBgVhFxxp"
      },
      "execution_count": null,
      "outputs": []
    },
    {
      "cell_type": "code",
      "source": [
        "satislar=df[['Satislar']]\n",
        "satislar"
      ],
      "metadata": {
        "id": "op901L9-Fxr7"
      },
      "execution_count": null,
      "outputs": []
    },
    {
      "cell_type": "markdown",
      "source": [
        "iloc[satirlar, sutunlar]\n",
        "[ : , 0 : 4] 0. satirdan sonuna kadar git, 0. sutundan 4. sutuna kadar git."
      ],
      "metadata": {
        "id": "kTvJrs_BIBq8"
      }
    },
    {
      "cell_type": "code",
      "source": [
        "df"
      ],
      "metadata": {
        "id": "OZy6TQokI5Ss"
      },
      "execution_count": null,
      "outputs": []
    },
    {
      "cell_type": "code",
      "source": [
        "satislar2=df.iloc[:,0:1].values\n",
        "satislar2"
      ],
      "metadata": {
        "id": "SjWcdRJMFxnw"
      },
      "execution_count": null,
      "outputs": []
    },
    {
      "cell_type": "code",
      "source": [
        "from sklearn.model_selection import train_test_split"
      ],
      "metadata": {
        "id": "lQQ9MO8XFxh6"
      },
      "execution_count": null,
      "outputs": []
    },
    {
      "cell_type": "code",
      "source": [
        "x_train, x_test, y_train, y_test=train_test_split(aylar, satislar, test_size=0.33, random_state=0)"
      ],
      "metadata": {
        "id": "VlZJ9fR2holX"
      },
      "execution_count": null,
      "outputs": []
    },
    {
      "cell_type": "code",
      "source": [
        "y_train"
      ],
      "metadata": {
        "id": "xjpGnfEk593g"
      },
      "execution_count": null,
      "outputs": []
    },
    {
      "cell_type": "code",
      "source": [
        "y_test"
      ],
      "metadata": {
        "id": "tzeU3FuP6Uj9"
      },
      "execution_count": null,
      "outputs": []
    },
    {
      "cell_type": "code",
      "source": [
        "x_test"
      ],
      "metadata": {
        "id": "hxYaUddp6N_B"
      },
      "execution_count": null,
      "outputs": []
    },
    {
      "cell_type": "code",
      "source": [
        "x_train"
      ],
      "metadata": {
        "id": "bx7gmgJb6JqM"
      },
      "execution_count": null,
      "outputs": []
    },
    {
      "cell_type": "code",
      "source": [
        "from sklearn.preprocessing import StandardScaler"
      ],
      "metadata": {
        "id": "h-YZ2bu1gU2G"
      },
      "execution_count": null,
      "outputs": []
    },
    {
      "cell_type": "code",
      "source": [
        "sc=StandardScaler()"
      ],
      "metadata": {
        "id": "Sz3nkXDzgLUT"
      },
      "execution_count": null,
      "outputs": []
    },
    {
      "cell_type": "code",
      "source": [
        "X_train = sc.fit_transform(x_train)"
      ],
      "metadata": {
        "id": "5esp9V89giBL"
      },
      "execution_count": null,
      "outputs": []
    },
    {
      "cell_type": "code",
      "source": [
        "X_test = sc.fit_transform(x_test)"
      ],
      "metadata": {
        "id": "e36S-Y9EgjuB"
      },
      "execution_count": null,
      "outputs": []
    },
    {
      "cell_type": "code",
      "source": [
        "Y_train = sc.fit_transform(y_train)"
      ],
      "metadata": {
        "id": "NtLKSIc7mynh"
      },
      "execution_count": null,
      "outputs": []
    },
    {
      "cell_type": "code",
      "source": [
        "Y_test = sc.fit_transform(y_test)"
      ],
      "metadata": {
        "id": "L3N5y2R9rszz"
      },
      "execution_count": null,
      "outputs": []
    },
    {
      "cell_type": "code",
      "source": [
        "from sklearn.preprocessing import StandardScaler"
      ],
      "metadata": {
        "id": "uzzykcrNqDwL"
      },
      "execution_count": null,
      "outputs": []
    },
    {
      "cell_type": "code",
      "source": [
        "from sklearn.linear_model import LinearRegression "
      ],
      "metadata": {
        "id": "mqvn7ILVl7du"
      },
      "execution_count": null,
      "outputs": []
    },
    {
      "cell_type": "code",
      "source": [
        "lr=LinearRegression()\n",
        "lr.fit(X_train, Y_train)"
      ],
      "metadata": {
        "id": "U9BnsqhgsQ_s"
      },
      "execution_count": null,
      "outputs": []
    },
    {
      "cell_type": "code",
      "source": [
        "prd=lr.predict(X_test)"
      ],
      "metadata": {
        "id": "1hfAfiB4uc3p"
      },
      "execution_count": null,
      "outputs": []
    },
    {
      "cell_type": "code",
      "source": [
        "plt.plot(x_train, y_train);#siralama olmassa grafik boyle capik olur"
      ],
      "metadata": {
        "id": "GBmWydG1yhcs"
      },
      "execution_count": null,
      "outputs": []
    },
    {
      "cell_type": "code",
      "source": [
        "x_train = x_train.sort_index()#boylece siraladik ve grafik duzgun oldu\n",
        "y_train = y_train.sort_index()\n"
      ],
      "metadata": {
        "id": "u7EMDivczG7w"
      },
      "execution_count": null,
      "outputs": []
    },
    {
      "cell_type": "code",
      "source": [
        "plt.plot(x_train, y_train)\n",
        "plt.title(\"aylara gore satislar\")\n",
        "plt.xlabel(\"aylar\")\n",
        "plt.ylabel(\"satislar\")\n",
        "plt.show();"
      ],
      "metadata": {
        "id": "2hgYzXUO8fyb"
      },
      "execution_count": null,
      "outputs": []
    },
    {
      "cell_type": "code",
      "source": [
        "plt.plot(x_test, lr.predict(x_test))\n",
        "plt.title(\"aylara gore satislar\")\n",
        "plt.xlabel(\"aylar\")\n",
        "plt.ylabel(\"satislar\")\n",
        "plt.show()"
      ],
      "metadata": {
        "id": "gM7aQr4G-mxc"
      },
      "execution_count": null,
      "outputs": []
    },
    {
      "cell_type": "code",
      "source": [
        ""
      ],
      "metadata": {
        "id": "iHk_TG84Acvl"
      },
      "execution_count": null,
      "outputs": []
    }
  ]
}