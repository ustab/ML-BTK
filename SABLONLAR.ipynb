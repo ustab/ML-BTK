{
  "nbformat": 4,
  "nbformat_minor": 0,
  "metadata": {
    "colab": {
      "name": "SABLONLAR.ipynb",
      "private_outputs": true,
      "provenance": [],
      "authorship_tag": "ABX9TyN7QhUOzSsgc0w25PTD2/HI",
      "include_colab_link": true
    },
    "kernelspec": {
      "name": "python3",
      "display_name": "Python 3"
    },
    "language_info": {
      "name": "python"
    }
  },
  "cells": [
    {
      "cell_type": "markdown",
      "metadata": {
        "id": "view-in-github",
        "colab_type": "text"
      },
      "source": [
        "<a href=\"https://colab.research.google.com/github/ustab/ML-BTK/blob/main/SABLONLAR.ipynb\" target=\"_parent\"><img src=\"https://colab.research.google.com/assets/colab-badge.svg\" alt=\"Open In Colab\"/></a>"
      ]
    },
    {
      "cell_type": "code",
      "execution_count": null,
      "metadata": {
        "id": "6_ZVBO88gqry"
      },
      "outputs": [],
      "source": [
        "import pandas as pd"
      ]
    },
    {
      "cell_type": "code",
      "source": [
        "# -*- coding: utf-8 -*-\n",
        "\"\"\"\n",
        "Created on Mon Jul  6 18:50:13 2020\n",
        "\n",
        "@author: sadievrenseker\n",
        "\"\"\"\n",
        "\n",
        "#1.kutuphaneler\n",
        "import numpy as np\n",
        "import matplotlib.pyplot as plt\n",
        "import pandas as pd\n",
        "from sklearn.metrics import r2_score\n"
      ],
      "metadata": {
        "id": "pKTlx0Pps8gn"
      },
      "execution_count": null,
      "outputs": []
    },
    {
      "cell_type": "code",
      "source": [
        "# veri yukleme\n",
        "veriler = pd.read_csv('maaslar.csv')\n",
        "\n",
        "x = veriler.iloc[:,2:4]\n",
        "y = veriler.iloc[:,4:]\n",
        "X = x.values\n",
        "Y = y.values\n",
        "\n",
        "\n",
        "#linear regression\n",
        "from sklearn.linear_model import LinearRegression\n",
        "lin_reg = LinearRegression()\n",
        "lin_reg.fit(X,Y)\n",
        "\n",
        "plt.scatter(X,Y,color='red')\n",
        "plt.plot(x,lin_reg.predict(X), color = 'blue')\n",
        "plt.show()\n",
        "\n",
        "print('Linear R2 degeri')\n",
        "print(r2_score(Y, lin_reg.predict(X)))\n",
        "\n",
        "\n",
        "#polynomial regression\n",
        "from sklearn.preprocessing import PolynomialFeatures\n",
        "poly_reg = PolynomialFeatures(degree = 2)\n",
        "x_poly = poly_reg.fit_transform(X)\n",
        "print(x_poly)\n",
        "lin_reg2 = LinearRegression()\n",
        "lin_reg2.fit(x_poly,y)\n",
        "plt.scatter(X,Y,color = 'red')\n",
        "plt.plot(X,lin_reg2.predict(poly_reg.fit_transform(X)), color = 'blue')\n",
        "plt.show()\n",
        "\n",
        "from sklearn.preprocessing import PolynomialFeatures\n",
        "poly_reg = PolynomialFeatures(degree = 4)\n",
        "x_poly = poly_reg.fit_transform(X)\n",
        "print(x_poly)\n",
        "lin_reg2 = LinearRegression()\n",
        "lin_reg2.fit(x_poly,y)\n",
        "plt.scatter(X,Y,color = 'red')\n",
        "plt.plot(X,lin_reg2.predict(poly_reg.fit_transform(X)), color = 'blue')\n",
        "plt.show()\n",
        "\n",
        "#tahminler\n",
        "\n",
        "print(lin_reg.predict([[11]]))\n",
        "print(lin_reg.predict([[6.6]]))\n",
        "\n",
        "print(lin_reg2.predict(poly_reg.fit_transform([[6.6]])))\n",
        "print(lin_reg2.predict(poly_reg.fit_transform([[11]])))\n",
        "\n",
        "print('Polynomial R2 degeri')\n",
        "print(r2_score(Y, lin_reg2.predict(poly_reg.fit_transform(X))))\n",
        "\n",
        "#verilerin olceklenmesi\n",
        "from sklearn.preprocessing import StandardScaler\n",
        "\n",
        "sc1=StandardScaler()\n",
        "\n",
        "x_olcekli = sc1.fit_transform(X)\n",
        "\n",
        "sc2=StandardScaler()\n",
        "y_olcekli = np.ravel(sc2.fit_transform(Y.reshape(-1,1)))\n",
        "\n",
        "\n",
        "from sklearn.svm import SVR\n",
        "\n",
        "svr_reg = SVR(kernel='rbf')\n",
        "svr_reg.fit(x_olcekli,y_olcekli)\n",
        "\n",
        "plt.scatter(x_olcekli,y_olcekli,color='red')\n",
        "plt.plot(x_olcekli,svr_reg.predict(x_olcekli),color='blue')\n",
        "\n",
        "plt.show()\n",
        "print(svr_reg.predict([[11]]))\n",
        "print(svr_reg.predict([[6.6]]))\n",
        "\n",
        "print('SVR R2 degeri')\n",
        "print(r2_score(y_olcekli, svr_reg.predict(x_olcekli)))\n",
        "\n",
        "#Decision Tree Regresyon\n",
        "from sklearn.tree import DecisionTreeRegressor\n",
        "r_dt = DecisionTreeRegressor(random_state=0)\n",
        "r_dt.fit(X,Y)\n",
        "Z = X + 0.5\n",
        "K = X - 0.4\n",
        "\n",
        "plt.scatter(X,Y, color='red')\n",
        "plt.plot(x,r_dt.predict(X), color='blue')\n",
        "plt.plot(x,r_dt.predict(Z),color='green')\n",
        "plt.plot(x,r_dt.predict(K),color='yellow')\n",
        "plt.show()\n",
        "print(r_dt.predict([[11]]))\n",
        "print(r_dt.predict([[6.6]]))\n",
        "\n",
        "print('Decision Tree R2 degeri')\n",
        "print(r2_score(Y, r_dt.predict(X)))\n",
        "\n",
        "#Random Forest Regresyonu\n",
        "from sklearn.ensemble import RandomForestRegressor\n",
        "rf_reg=RandomForestRegressor(n_estimators = 10,random_state=0)\n",
        "rf_reg.fit(X,Y.ravel())\n",
        "\n",
        "print(rf_reg.predict([[6.6]]))\n",
        "\n",
        "plt.scatter(X,Y,color='red')\n",
        "plt.plot(X,rf_reg.predict(X),color='blue')\n",
        "\n",
        "plt.plot(X,rf_reg.predict(Z),color='green')\n",
        "plt.plot(x,r_dt.predict(K),color='yellow')\n",
        "plt.show()\n",
        "\n",
        "\n",
        "\n",
        "\n",
        "print('Random Forest R2 degeri')\n",
        "print(r2_score(Y, rf_reg.predict(X)))\n",
        "\n",
        "print(r2_score(Y, rf_reg.predict(K)))\n",
        "print(r2_score(Y, rf_reg.predict(Z)))\n",
        "\n",
        "#Ozet R2 değerleri\n",
        "print('-----------------------')\n",
        "print('Linear R2 degeri')\n",
        "print(r2_score(Y, lin_reg.predict(X)))\n",
        "\n",
        "print('Polynomial R2 degeri')\n",
        "print(r2_score(Y, lin_reg2.predict(poly_reg.fit_transform(X))))\n",
        "\n",
        "print('SVR R2 degeri')\n",
        "print(r2_score(y_olcekli, svr_reg.predict(x_olcekli)))\n",
        "\n",
        "\n",
        "print('Decision Tree R2 degeri')\n",
        "print(r2_score(Y, r_dt.predict(X)))\n",
        "\n",
        "print('Random Forest R2 degeri')\n",
        "print(r2_score(Y, rf_reg.predict(X)))"
      ],
      "metadata": {
        "id": "E657XupytGGi"
      },
      "execution_count": null,
      "outputs": []
    },
    {
      "cell_type": "code",
      "source": [
        "#linear regression\n",
        "from sklearn.linear_model import LinearRegression\n",
        "lin_reg = LinearRegression()\n",
        "lin_reg.fit(X,Y)\n",
        "\n",
        "plt.scatter(X,Y,color='red')\n",
        "plt.plot(x,lin_reg.predict(X), color = 'blue')\n",
        "plt.show()\n",
        "\n",
        "print('Linear R2 degeri')\n",
        "print(r2_score(Y, lin_reg.predict(X)))\n",
        "\n",
        "\n"
      ],
      "metadata": {
        "id": "JIJ9Dlg_tMpv"
      },
      "execution_count": null,
      "outputs": []
    },
    {
      "cell_type": "code",
      "source": [
        "#polynomial regression\n",
        "from sklearn.preprocessing import PolynomialFeatures\n",
        "poly_reg = PolynomialFeatures(degree = 2)\n",
        "x_poly = poly_reg.fit_transform(X)\n",
        "print(x_poly)\n",
        "lin_reg2 = LinearRegression()\n",
        "lin_reg2.fit(x_poly,y)\n",
        "plt.scatter(X,Y,color = 'red')\n",
        "plt.plot(X,lin_reg2.predict(poly_reg.fit_transform(X)), color = 'blue')\n",
        "plt.show()\n",
        "\n",
        "from sklearn.preprocessing import PolynomialFeatures\n",
        "poly_reg = PolynomialFeatures(degree = 4)\n",
        "x_poly = poly_reg.fit_transform(X)\n",
        "print(x_poly)\n",
        "lin_reg2 = LinearRegression()\n",
        "lin_reg2.fit(x_poly,y)\n",
        "plt.scatter(X,Y,color = 'red')\n",
        "plt.plot(X,lin_reg2.predict(poly_reg.fit_transform(X)), color = 'blue')\n",
        "plt.show()\n",
        "\n"
      ],
      "metadata": {
        "id": "bs0UnDjYtWgw"
      },
      "execution_count": null,
      "outputs": []
    },
    {
      "cell_type": "code",
      "source": [
        "#tahminler\n",
        "\n",
        "print(lin_reg.predict([[11]]))\n",
        "print(lin_reg.predict([[6.6]]))\n",
        "\n",
        "print(lin_reg2.predict(poly_reg.fit_transform([[6.6]])))\n",
        "print(lin_reg2.predict(poly_reg.fit_transform([[11]])))\n",
        "\n",
        "print('Polynomial R2 degeri')\n",
        "print(r2_score(Y, lin_reg2.predict(poly_reg.fit_transform(X))))\n",
        "\n",
        "#verilerin olceklenmesi\n",
        "from sklearn.preprocessing import StandardScaler\n",
        "\n",
        "sc1=StandardScaler()\n",
        "\n",
        "x_olcekli = sc1.fit_transform(X)\n",
        "\n",
        "sc2=StandardScaler()\n",
        "y_olcekli = np.ravel(sc2.fit_transform(Y.reshape(-1,1)))\n",
        "\n",
        "\n"
      ],
      "metadata": {
        "id": "pnYLwlqiteKo"
      },
      "execution_count": null,
      "outputs": []
    },
    {
      "cell_type": "code",
      "source": [
        "from sklearn.svm import SVR\n",
        "\n",
        "svr_reg = SVR(kernel='rbf')\n",
        "svr_reg.fit(x_olcekli,y_olcekli)\n",
        "\n",
        "plt.scatter(x_olcekli,y_olcekli,color='red')\n",
        "plt.plot(x_olcekli,svr_reg.predict(x_olcekli),color='blue')\n",
        "\n",
        "plt.show()\n",
        "print(svr_reg.predict([[11]]))\n",
        "print(svr_reg.predict([[6.6]]))\n",
        "\n",
        "print('SVR R2 degeri')\n",
        "print(r2_score(y_olcekli, svr_reg.predict(x_olcekli)))\n",
        "\n"
      ],
      "metadata": {
        "id": "AiiAT2gWtm6-"
      },
      "execution_count": null,
      "outputs": []
    },
    {
      "cell_type": "code",
      "source": [
        "#Decision Tree Regresyon\n",
        "from sklearn.tree import DecisionTreeRegressor\n",
        "r_dt = DecisionTreeRegressor(random_state=0)\n",
        "r_dt.fit(X,Y)\n",
        "Z = X + 0.5\n",
        "K = X - 0.4\n",
        "\n",
        "plt.scatter(X,Y, color='red')\n",
        "plt.plot(x,r_dt.predict(X), color='blue')\n",
        "plt.plot(x,r_dt.predict(Z),color='green')\n",
        "plt.plot(x,r_dt.predict(K),color='yellow')\n",
        "plt.show()\n",
        "print(r_dt.predict([[11]]))\n",
        "print(r_dt.predict([[6.6]]))\n",
        "\n",
        "print('Decision Tree R2 degeri')\n",
        "print(r2_score(Y, r_dt.predict(X)))\n",
        "\n"
      ],
      "metadata": {
        "id": "33cWr0vGtuSv"
      },
      "execution_count": null,
      "outputs": []
    },
    {
      "cell_type": "code",
      "source": [
        "#Random Forest Regresyonu\n",
        "from sklearn.ensemble import RandomForestRegressor\n",
        "rf_reg=RandomForestRegressor(n_estimators = 10,random_state=0)\n",
        "rf_reg.fit(X,Y.ravel())\n",
        "\n",
        "print(rf_reg.predict([[6.6]]))\n",
        "\n",
        "plt.scatter(X,Y,color='red')\n",
        "plt.plot(X,rf_reg.predict(X),color='blue')\n",
        "\n",
        "plt.plot(X,rf_reg.predict(Z),color='green')\n",
        "plt.plot(x,r_dt.predict(K),color='yellow')\n",
        "plt.show()\n"
      ],
      "metadata": {
        "id": "zXKggEPMtz1t"
      },
      "execution_count": null,
      "outputs": []
    },
    {
      "cell_type": "code",
      "source": [
        "print('Random Forest R2 degeri')\n",
        "print(r2_score(Y, rf_reg.predict(X)))\n",
        "\n",
        "print(r2_score(Y, rf_reg.predict(K)))\n",
        "print(r2_score(Y, rf_reg.predict(Z)))\n",
        "\n"
      ],
      "metadata": {
        "id": "QPBzVcoct5pP"
      },
      "execution_count": null,
      "outputs": []
    },
    {
      "cell_type": "code",
      "source": [
        "#Ozet R2 değerleri\n",
        "print('-----------------------')\n",
        "print('Linear R2 degeri')\n",
        "print(r2_score(Y, lin_reg.predict(X)))\n",
        "\n",
        "print('Polynomial R2 degeri')\n",
        "print(r2_score(Y, lin_reg2.predict(poly_reg.fit_transform(X))))\n",
        "\n",
        "print('SVR R2 degeri')\n",
        "print(r2_score(y_olcekli, svr_reg.predict(x_olcekli)))\n",
        "\n",
        "\n",
        "print('Decision Tree R2 degeri')\n",
        "print(r2_score(Y, r_dt.predict(X)))\n",
        "\n",
        "print('Random Forest R2 degeri')\n",
        "print(r2_score(Y, rf_reg.predict(X)))"
      ],
      "metadata": {
        "id": "jG4ISU3KuDdX"
      },
      "execution_count": null,
      "outputs": []
    }
  ]
}